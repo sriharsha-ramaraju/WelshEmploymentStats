{
 "cells": [
  {
   "cell_type": "code",
   "execution_count": 5,
   "metadata": {},
   "outputs": [],
   "source": [
    "import pandas as pd\n",
    "import numpy as np\n",
    "import matplotlib.pyplot as plt\n",
    "%matplotlib inline\n",
    "import seaborn as sb\n",
    "import warnings\n",
    "\n",
    "warnings.filterwarnings('ignore')\n",
    "plt.style.use('seaborn-whitegrid')\n",
    "pd.pandas.set_option('display.max_columns',None)"
   ]
  },
  {
   "cell_type": "markdown",
   "metadata": {},
   "source": [
    "# 1. Data Pre-processing"
   ]
  },
  {
   "cell_type": "markdown",
   "metadata": {},
   "source": [
    "## 1.1 Download the dataset for the period 2009 – 2018 and create a dataframe that concatenates Wales (total) employment value only."
   ]
  },
  {
   "cell_type": "code",
   "execution_count": 46,
   "metadata": {},
   "outputs": [],
   "source": [
    "import os\n",
    "df=pd.DataFrame()\n",
    "f1=pd.read_csv('yr_2009.csv')\n",
    "directory = r'C:\\Users\\nsr156\\Documents\\PROJECTS\\GIT_HUB\\Welsh Employment Stats'\n",
    "for filename in os.listdir(directory):\n",
    "    if filename.endswith(\".csv\"):\n",
    "        if filename=='yr_2009.csv':\n",
    "            df=pd.read_csv(filename)\n",
    "            continue\n",
    "        else:\n",
    "            f2=pd.read_csv(filename)\n",
    "            df=pd.concat([df,f2.iloc[:,1]],axis=1)\n",
    "    else:\n",
    "        continue"
   ]
  },
  {
   "cell_type": "code",
   "execution_count": 47,
   "metadata": {},
   "outputs": [
    {
     "data": {
      "text/html": [
       "<div>\n",
       "<style scoped>\n",
       "    .dataframe tbody tr th:only-of-type {\n",
       "        vertical-align: middle;\n",
       "    }\n",
       "\n",
       "    .dataframe tbody tr th {\n",
       "        vertical-align: top;\n",
       "    }\n",
       "\n",
       "    .dataframe thead th {\n",
       "        text-align: right;\n",
       "    }\n",
       "</style>\n",
       "<table border=\"1\" class=\"dataframe\">\n",
       "  <thead>\n",
       "    <tr style=\"text-align: right;\">\n",
       "      <th></th>\n",
       "      <th>Industries</th>\n",
       "      <th>yr_2009</th>\n",
       "      <th>yr_2010</th>\n",
       "      <th>yr_2011</th>\n",
       "      <th>yr_2012</th>\n",
       "      <th>yr_2013</th>\n",
       "      <th>yr_2014</th>\n",
       "      <th>yr_2015</th>\n",
       "      <th>yr_2016</th>\n",
       "      <th>yr_2017</th>\n",
       "      <th>yr_2018</th>\n",
       "    </tr>\n",
       "  </thead>\n",
       "  <tbody>\n",
       "    <tr>\n",
       "      <th>0</th>\n",
       "      <td>Agriculture, forestry and fishing</td>\n",
       "      <td>37700</td>\n",
       "      <td>38200</td>\n",
       "      <td>36100</td>\n",
       "      <td>36100</td>\n",
       "      <td>36800</td>\n",
       "      <td>42700</td>\n",
       "      <td>40700</td>\n",
       "      <td>43200</td>\n",
       "      <td>40200</td>\n",
       "      <td>41100</td>\n",
       "    </tr>\n",
       "    <tr>\n",
       "      <th>1</th>\n",
       "      <td>Production</td>\n",
       "      <td>156700</td>\n",
       "      <td>149800</td>\n",
       "      <td>158600</td>\n",
       "      <td>154400</td>\n",
       "      <td>164200</td>\n",
       "      <td>173300</td>\n",
       "      <td>172300</td>\n",
       "      <td>162500</td>\n",
       "      <td>165100</td>\n",
       "      <td>165700</td>\n",
       "    </tr>\n",
       "    <tr>\n",
       "      <th>2</th>\n",
       "      <td>Construction</td>\n",
       "      <td>96600</td>\n",
       "      <td>93200</td>\n",
       "      <td>90000</td>\n",
       "      <td>91300</td>\n",
       "      <td>89300</td>\n",
       "      <td>97000</td>\n",
       "      <td>92600</td>\n",
       "      <td>102700</td>\n",
       "      <td>90800</td>\n",
       "      <td>101800</td>\n",
       "    </tr>\n",
       "    <tr>\n",
       "      <th>3</th>\n",
       "      <td>Wholesale, retail, transport, hotels and food</td>\n",
       "      <td>345400</td>\n",
       "      <td>344500</td>\n",
       "      <td>343100</td>\n",
       "      <td>347300</td>\n",
       "      <td>345100</td>\n",
       "      <td>337300</td>\n",
       "      <td>357700</td>\n",
       "      <td>360200</td>\n",
       "      <td>333500</td>\n",
       "      <td>347600</td>\n",
       "    </tr>\n",
       "    <tr>\n",
       "      <th>4</th>\n",
       "      <td>Information and communication</td>\n",
       "      <td>27800</td>\n",
       "      <td>27900</td>\n",
       "      <td>26400</td>\n",
       "      <td>27200</td>\n",
       "      <td>26900</td>\n",
       "      <td>35700</td>\n",
       "      <td>24000</td>\n",
       "      <td>34400</td>\n",
       "      <td>58900</td>\n",
       "      <td>31500</td>\n",
       "    </tr>\n",
       "  </tbody>\n",
       "</table>\n",
       "</div>"
      ],
      "text/plain": [
       "                                       Industries  yr_2009  yr_2010  yr_2011  \\\n",
       "0              Agriculture, forestry and fishing     37700    38200    36100   \n",
       "1                                     Production    156700   149800   158600   \n",
       "2                                   Construction     96600    93200    90000   \n",
       "3  Wholesale, retail, transport, hotels and food    345400   344500   343100   \n",
       "4                  Information and communication     27800    27900    26400   \n",
       "\n",
       "   yr_2012  yr_2013  yr_2014  yr_2015  yr_2016  yr_2017  yr_2018  \n",
       "0    36100    36800    42700    40700    43200    40200    41100  \n",
       "1   154400   164200   173300   172300   162500   165100   165700  \n",
       "2    91300    89300    97000    92600   102700    90800   101800  \n",
       "3   347300   345100   337300   357700   360200   333500   347600  \n",
       "4    27200    26900    35700    24000    34400    58900    31500  "
      ]
     },
     "execution_count": 47,
     "metadata": {},
     "output_type": "execute_result"
    }
   ],
   "source": [
    "df.head()"
   ]
  },
  {
   "cell_type": "markdown",
   "metadata": {},
   "source": [
    "## 1.3.\tChange the name of the industries as below"
   ]
  },
  {
   "cell_type": "code",
   "execution_count": 63,
   "metadata": {},
   "outputs": [],
   "source": [
    "df.rename(columns={'Industries':'Industry'},inplace=True)\n",
    "df.index=['Agriculture','Production','Construction','Wholesale',\n",
    "          'ICT','Finance','Real_Estate','Professional_Service','Public_Administration','Other_Service']\n",
    "df.drop('Industry',axis=1,inplace=True)"
   ]
  },
  {
   "cell_type": "code",
   "execution_count": 65,
   "metadata": {},
   "outputs": [
    {
     "data": {
      "text/html": [
       "<div>\n",
       "<style scoped>\n",
       "    .dataframe tbody tr th:only-of-type {\n",
       "        vertical-align: middle;\n",
       "    }\n",
       "\n",
       "    .dataframe tbody tr th {\n",
       "        vertical-align: top;\n",
       "    }\n",
       "\n",
       "    .dataframe thead th {\n",
       "        text-align: right;\n",
       "    }\n",
       "</style>\n",
       "<table border=\"1\" class=\"dataframe\">\n",
       "  <thead>\n",
       "    <tr style=\"text-align: right;\">\n",
       "      <th></th>\n",
       "      <th>yr_2009</th>\n",
       "      <th>yr_2010</th>\n",
       "      <th>yr_2011</th>\n",
       "      <th>yr_2012</th>\n",
       "      <th>yr_2013</th>\n",
       "      <th>yr_2014</th>\n",
       "      <th>yr_2015</th>\n",
       "      <th>yr_2016</th>\n",
       "      <th>yr_2017</th>\n",
       "      <th>yr_2018</th>\n",
       "    </tr>\n",
       "  </thead>\n",
       "  <tbody>\n",
       "    <tr>\n",
       "      <th>Agriculture</th>\n",
       "      <td>37700</td>\n",
       "      <td>38200</td>\n",
       "      <td>36100</td>\n",
       "      <td>36100</td>\n",
       "      <td>36800</td>\n",
       "      <td>42700</td>\n",
       "      <td>40700</td>\n",
       "      <td>43200</td>\n",
       "      <td>40200</td>\n",
       "      <td>41100</td>\n",
       "    </tr>\n",
       "    <tr>\n",
       "      <th>Production</th>\n",
       "      <td>156700</td>\n",
       "      <td>149800</td>\n",
       "      <td>158600</td>\n",
       "      <td>154400</td>\n",
       "      <td>164200</td>\n",
       "      <td>173300</td>\n",
       "      <td>172300</td>\n",
       "      <td>162500</td>\n",
       "      <td>165100</td>\n",
       "      <td>165700</td>\n",
       "    </tr>\n",
       "    <tr>\n",
       "      <th>Construction</th>\n",
       "      <td>96600</td>\n",
       "      <td>93200</td>\n",
       "      <td>90000</td>\n",
       "      <td>91300</td>\n",
       "      <td>89300</td>\n",
       "      <td>97000</td>\n",
       "      <td>92600</td>\n",
       "      <td>102700</td>\n",
       "      <td>90800</td>\n",
       "      <td>101800</td>\n",
       "    </tr>\n",
       "    <tr>\n",
       "      <th>Wholesale</th>\n",
       "      <td>345400</td>\n",
       "      <td>344500</td>\n",
       "      <td>343100</td>\n",
       "      <td>347300</td>\n",
       "      <td>345100</td>\n",
       "      <td>337300</td>\n",
       "      <td>357700</td>\n",
       "      <td>360200</td>\n",
       "      <td>333500</td>\n",
       "      <td>347600</td>\n",
       "    </tr>\n",
       "    <tr>\n",
       "      <th>ICT</th>\n",
       "      <td>27800</td>\n",
       "      <td>27900</td>\n",
       "      <td>26400</td>\n",
       "      <td>27200</td>\n",
       "      <td>26900</td>\n",
       "      <td>35700</td>\n",
       "      <td>24000</td>\n",
       "      <td>34400</td>\n",
       "      <td>58900</td>\n",
       "      <td>31500</td>\n",
       "    </tr>\n",
       "    <tr>\n",
       "      <th>Finance</th>\n",
       "      <td>33800</td>\n",
       "      <td>29800</td>\n",
       "      <td>33200</td>\n",
       "      <td>31100</td>\n",
       "      <td>32400</td>\n",
       "      <td>32400</td>\n",
       "      <td>30800</td>\n",
       "      <td>31000</td>\n",
       "      <td>32100</td>\n",
       "      <td>35500</td>\n",
       "    </tr>\n",
       "    <tr>\n",
       "      <th>Real_Estate</th>\n",
       "      <td>13500</td>\n",
       "      <td>14600</td>\n",
       "      <td>17600</td>\n",
       "      <td>18800</td>\n",
       "      <td>18000</td>\n",
       "      <td>22200</td>\n",
       "      <td>19100</td>\n",
       "      <td>22700</td>\n",
       "      <td>18200</td>\n",
       "      <td>25200</td>\n",
       "    </tr>\n",
       "    <tr>\n",
       "      <th>Professional_Service</th>\n",
       "      <td>144800</td>\n",
       "      <td>145800</td>\n",
       "      <td>143600</td>\n",
       "      <td>137300</td>\n",
       "      <td>149900</td>\n",
       "      <td>152900</td>\n",
       "      <td>166200</td>\n",
       "      <td>161200</td>\n",
       "      <td>176400</td>\n",
       "      <td>187100</td>\n",
       "    </tr>\n",
       "    <tr>\n",
       "      <th>Public_Administration</th>\n",
       "      <td>415600</td>\n",
       "      <td>418600</td>\n",
       "      <td>425600</td>\n",
       "      <td>421000</td>\n",
       "      <td>427000</td>\n",
       "      <td>427600</td>\n",
       "      <td>423200</td>\n",
       "      <td>418500</td>\n",
       "      <td>424500</td>\n",
       "      <td>434900</td>\n",
       "    </tr>\n",
       "    <tr>\n",
       "      <th>Other_Service</th>\n",
       "      <td>64200</td>\n",
       "      <td>68000</td>\n",
       "      <td>72400</td>\n",
       "      <td>72800</td>\n",
       "      <td>75500</td>\n",
       "      <td>73300</td>\n",
       "      <td>77200</td>\n",
       "      <td>72400</td>\n",
       "      <td>83200</td>\n",
       "      <td>81800</td>\n",
       "    </tr>\n",
       "  </tbody>\n",
       "</table>\n",
       "</div>"
      ],
      "text/plain": [
       "                       yr_2009  yr_2010  yr_2011  yr_2012  yr_2013  yr_2014  \\\n",
       "Agriculture              37700    38200    36100    36100    36800    42700   \n",
       "Production              156700   149800   158600   154400   164200   173300   \n",
       "Construction             96600    93200    90000    91300    89300    97000   \n",
       "Wholesale               345400   344500   343100   347300   345100   337300   \n",
       "ICT                      27800    27900    26400    27200    26900    35700   \n",
       "Finance                  33800    29800    33200    31100    32400    32400   \n",
       "Real_Estate              13500    14600    17600    18800    18000    22200   \n",
       "Professional_Service    144800   145800   143600   137300   149900   152900   \n",
       "Public_Administration   415600   418600   425600   421000   427000   427600   \n",
       "Other_Service            64200    68000    72400    72800    75500    73300   \n",
       "\n",
       "                       yr_2015  yr_2016  yr_2017  yr_2018  \n",
       "Agriculture              40700    43200    40200    41100  \n",
       "Production              172300   162500   165100   165700  \n",
       "Construction             92600   102700    90800   101800  \n",
       "Wholesale               357700   360200   333500   347600  \n",
       "ICT                      24000    34400    58900    31500  \n",
       "Finance                  30800    31000    32100    35500  \n",
       "Real_Estate              19100    22700    18200    25200  \n",
       "Professional_Service    166200   161200   176400   187100  \n",
       "Public_Administration   423200   418500   424500   434900  \n",
       "Other_Service            77200    72400    83200    81800  "
      ]
     },
     "execution_count": 65,
     "metadata": {},
     "output_type": "execute_result"
    }
   ],
   "source": [
    "df"
   ]
  },
  {
   "cell_type": "markdown",
   "metadata": {},
   "source": [
    "## 1.2.\tCheck for any null value or outlier. If found replace that with mean value.  "
   ]
  },
  {
   "cell_type": "code",
   "execution_count": 84,
   "metadata": {},
   "outputs": [
    {
     "data": {
      "text/html": [
       "<div>\n",
       "<style scoped>\n",
       "    .dataframe tbody tr th:only-of-type {\n",
       "        vertical-align: middle;\n",
       "    }\n",
       "\n",
       "    .dataframe tbody tr th {\n",
       "        vertical-align: top;\n",
       "    }\n",
       "\n",
       "    .dataframe thead th {\n",
       "        text-align: right;\n",
       "    }\n",
       "</style>\n",
       "<table border=\"1\" class=\"dataframe\">\n",
       "  <thead>\n",
       "    <tr style=\"text-align: right;\">\n",
       "      <th></th>\n",
       "      <th>MissingValues</th>\n",
       "    </tr>\n",
       "  </thead>\n",
       "  <tbody>\n",
       "    <tr>\n",
       "      <th>yr_2009</th>\n",
       "      <td>0</td>\n",
       "    </tr>\n",
       "    <tr>\n",
       "      <th>yr_2010</th>\n",
       "      <td>0</td>\n",
       "    </tr>\n",
       "    <tr>\n",
       "      <th>yr_2011</th>\n",
       "      <td>0</td>\n",
       "    </tr>\n",
       "    <tr>\n",
       "      <th>yr_2012</th>\n",
       "      <td>0</td>\n",
       "    </tr>\n",
       "    <tr>\n",
       "      <th>yr_2013</th>\n",
       "      <td>0</td>\n",
       "    </tr>\n",
       "    <tr>\n",
       "      <th>yr_2014</th>\n",
       "      <td>0</td>\n",
       "    </tr>\n",
       "    <tr>\n",
       "      <th>yr_2015</th>\n",
       "      <td>0</td>\n",
       "    </tr>\n",
       "    <tr>\n",
       "      <th>yr_2016</th>\n",
       "      <td>0</td>\n",
       "    </tr>\n",
       "    <tr>\n",
       "      <th>yr_2017</th>\n",
       "      <td>0</td>\n",
       "    </tr>\n",
       "    <tr>\n",
       "      <th>yr_2018</th>\n",
       "      <td>0</td>\n",
       "    </tr>\n",
       "  </tbody>\n",
       "</table>\n",
       "</div>"
      ],
      "text/plain": [
       "         MissingValues\n",
       "yr_2009              0\n",
       "yr_2010              0\n",
       "yr_2011              0\n",
       "yr_2012              0\n",
       "yr_2013              0\n",
       "yr_2014              0\n",
       "yr_2015              0\n",
       "yr_2016              0\n",
       "yr_2017              0\n",
       "yr_2018              0"
      ]
     },
     "execution_count": 84,
     "metadata": {},
     "output_type": "execute_result"
    }
   ],
   "source": [
    "pd.DataFrame({'MissingValues':df.isnull().sum().values},index=df.columns)"
   ]
  },
  {
   "cell_type": "markdown",
   "metadata": {},
   "source": [
    "plt.figure(figsize=(12,6))\n",
    "sb.heatmap(df.isnull(),cbar=False,cmap='viridis',yticklabels=False)\n",
    "plt.xticks(fontsize=14,fontweight='bold',rotation=75)\n",
    "plt.title('Missing Values Visualisation-Heat Map',fontsize=16,fontweight='bold')\n",
    "plt.show()"
   ]
  },
  {
   "cell_type": "markdown",
   "metadata": {},
   "source": [
    "#### Above heat map shows that there are no missing values in any of the years"
   ]
  },
  {
   "cell_type": "code",
   "execution_count": 83,
   "metadata": {},
   "outputs": [
    {
     "data": {
      "image/png": "[encoded data removed]",
      "text/plain": [
       "<Figure size 864x432 with 1 Axes>"
      ]
     },
     "metadata": {},
     "output_type": "display_data"
    },
    {
     "data": {
      "image/png": "[encoded data removed]",
      "text/plain": [
       "<Figure size 864x432 with 1 Axes>"
      ]
     },
     "metadata": {},
     "output_type": "display_data"
    },
    {
     "data": {
      "image/png": "[encoded data removed]",
      "text/plain": [
       "<Figure size 864x432 with 1 Axes>"
      ]
     },
     "metadata": {},
     "output_type": "display_data"
    },
    {
     "data": {
      "image/png": "[encoded data removed]",
      "text/plain": [
       "<Figure size 864x432 with 1 Axes>"
      ]
     },
     "metadata": {},
     "output_type": "display_data"
    },
    {
     "data": {
      "image/png": "[encoded data removed]",
      "text/plain": [
       "<Figure size 864x432 with 1 Axes>"
      ]
     },
     "metadata": {},
     "output_type": "display_data"
    },
    {
     "data": {
      "image/png": "[encoded data removed]",
      "text/plain": [
       "<Figure size 864x432 with 1 Axes>"
      ]
     },
     "metadata": {},
     "output_type": "display_data"
    },
    {
     "data": {
      "image/png": "[encoded data removed]",
      "text/plain": [
       "<Figure size 864x432 with 1 Axes>"
      ]
     },
     "metadata": {},
     "output_type": "display_data"
    },
    {
     "data": {
      "image/png": "[encoded data removed]",
      "text/plain": [
       "<Figure size 864x432 with 1 Axes>"
      ]
     },
     "metadata": {},
     "output_type": "display_data"
    },
    {
     "data": {
      "image/png": "[encoded data removed]",
      "text/plain": [
       "<Figure size 864x432 with 1 Axes>"
      ]
     },
     "metadata": {},
     "output_type": "display_data"
    },
    {
     "data": {
      "image/png": "[encoded data removed]",
      "text/plain": [
       "<Figure size 864x432 with 1 Axes>"
      ]
     },
     "metadata": {},
     "output_type": "display_data"
    }
   ],
   "source": [
    "for fea in df.columns:\n",
    "    plt.figure(figsize=(12,6))\n",
    "    df[fea].plot(kind='box')\n",
    "    plt.ylabel('Employment in different industries')\n",
    "    plt.xlabel('')\n",
    "    plt.show()"
   ]
  },
  {
   "cell_type": "code",
   "execution_count": 161,
   "metadata": {},
   "outputs": [
    {
     "data": {
      "text/html": [
       "<div>\n",
       "<style scoped>\n",
       "    .dataframe tbody tr th:only-of-type {\n",
       "        vertical-align: middle;\n",
       "    }\n",
       "\n",
       "    .dataframe tbody tr th {\n",
       "        vertical-align: top;\n",
       "    }\n",
       "\n",
       "    .dataframe thead th {\n",
       "        text-align: right;\n",
       "    }\n",
       "</style>\n",
       "<table border=\"1\" class=\"dataframe\">\n",
       "  <thead>\n",
       "    <tr style=\"text-align: right;\">\n",
       "      <th></th>\n",
       "      <th>yr_2009</th>\n",
       "      <th>yr_2010</th>\n",
       "      <th>yr_2011</th>\n",
       "      <th>yr_2012</th>\n",
       "      <th>yr_2013</th>\n",
       "      <th>yr_2014</th>\n",
       "      <th>yr_2015</th>\n",
       "      <th>yr_2016</th>\n",
       "      <th>yr_2017</th>\n",
       "      <th>yr_2018</th>\n",
       "    </tr>\n",
       "  </thead>\n",
       "  <tbody>\n",
       "    <tr>\n",
       "      <th>Wholesale</th>\n",
       "      <td>345400</td>\n",
       "      <td>344500</td>\n",
       "      <td>343100</td>\n",
       "      <td>347300</td>\n",
       "      <td>345100</td>\n",
       "      <td>337300</td>\n",
       "      <td>357700</td>\n",
       "      <td>360200</td>\n",
       "      <td>333500</td>\n",
       "      <td>347600</td>\n",
       "    </tr>\n",
       "    <tr>\n",
       "      <th>Public_Administration</th>\n",
       "      <td>415600</td>\n",
       "      <td>418600</td>\n",
       "      <td>425600</td>\n",
       "      <td>421000</td>\n",
       "      <td>427000</td>\n",
       "      <td>427600</td>\n",
       "      <td>423200</td>\n",
       "      <td>418500</td>\n",
       "      <td>424500</td>\n",
       "      <td>434900</td>\n",
       "    </tr>\n",
       "  </tbody>\n",
       "</table>\n",
       "</div>"
      ],
      "text/plain": [
       "                       yr_2009  yr_2010  yr_2011  yr_2012  yr_2013  yr_2014  \\\n",
       "Wholesale               345400   344500   343100   347300   345100   337300   \n",
       "Public_Administration   415600   418600   425600   421000   427000   427600   \n",
       "\n",
       "                       yr_2015  yr_2016  yr_2017  yr_2018  \n",
       "Wholesale               357700   360200   333500   347600  \n",
       "Public_Administration   423200   418500   424500   434900  "
      ]
     },
     "execution_count": 161,
     "metadata": {},
     "output_type": "execute_result"
    }
   ],
   "source": [
    "dfCopy=df.copy()\n",
    "q1=df.quantile(0.25)\n",
    "q3=df.quantile(0.75)\n",
    "IQR=q3-q1\n",
    "df[(df> (q3 + 1.5 * IQR)).any(axis=1)]"
   ]
  },
  {
   "cell_type": "markdown",
   "metadata": {},
   "source": [
    "#### above observastions are outliers, replacing outliers by 'mean' of that particular feature\n",
    "#### outliers are present in 'Wholesale' and 'Public_admisnistartion'"
   ]
  },
  {
   "cell_type": "code",
   "execution_count": 158,
   "metadata": {},
   "outputs": [],
   "source": [
    "for fea in dfCopy.columns:\n",
    "    q1=dfCopy[fea].quantile(0.25)\n",
    "    q3=dfCopy[fea].quantile(0.75)\n",
    "    IQR=q3-q1\n",
    "    dfCopy[fea][df[fea]> (q3+ 1.5 * IQR)]=dfCopy[fea].mean()"
   ]
  },
  {
   "cell_type": "code",
   "execution_count": 159,
   "metadata": {},
   "outputs": [
    {
     "data": {
      "text/html": [
       "<div>\n",
       "<style scoped>\n",
       "    .dataframe tbody tr th:only-of-type {\n",
       "        vertical-align: middle;\n",
       "    }\n",
       "\n",
       "    .dataframe tbody tr th {\n",
       "        vertical-align: top;\n",
       "    }\n",
       "\n",
       "    .dataframe thead th {\n",
       "        text-align: right;\n",
       "    }\n",
       "</style>\n",
       "<table border=\"1\" class=\"dataframe\">\n",
       "  <thead>\n",
       "    <tr style=\"text-align: right;\">\n",
       "      <th></th>\n",
       "      <th>yr_2009</th>\n",
       "      <th>yr_2010</th>\n",
       "      <th>yr_2011</th>\n",
       "      <th>yr_2012</th>\n",
       "      <th>yr_2013</th>\n",
       "      <th>yr_2014</th>\n",
       "      <th>yr_2015</th>\n",
       "      <th>yr_2016</th>\n",
       "      <th>yr_2017</th>\n",
       "      <th>yr_2018</th>\n",
       "    </tr>\n",
       "  </thead>\n",
       "  <tbody>\n",
       "    <tr>\n",
       "      <th>Agriculture</th>\n",
       "      <td>37700</td>\n",
       "      <td>38200</td>\n",
       "      <td>36100</td>\n",
       "      <td>36100</td>\n",
       "      <td>36800</td>\n",
       "      <td>42700</td>\n",
       "      <td>40700</td>\n",
       "      <td>43200</td>\n",
       "      <td>40200</td>\n",
       "      <td>41100</td>\n",
       "    </tr>\n",
       "    <tr>\n",
       "      <th>Production</th>\n",
       "      <td>156700</td>\n",
       "      <td>149800</td>\n",
       "      <td>158600</td>\n",
       "      <td>154400</td>\n",
       "      <td>164200</td>\n",
       "      <td>173300</td>\n",
       "      <td>172300</td>\n",
       "      <td>162500</td>\n",
       "      <td>165100</td>\n",
       "      <td>165700</td>\n",
       "    </tr>\n",
       "    <tr>\n",
       "      <th>Construction</th>\n",
       "      <td>96600</td>\n",
       "      <td>93200</td>\n",
       "      <td>90000</td>\n",
       "      <td>91300</td>\n",
       "      <td>89300</td>\n",
       "      <td>97000</td>\n",
       "      <td>92600</td>\n",
       "      <td>102700</td>\n",
       "      <td>90800</td>\n",
       "      <td>101800</td>\n",
       "    </tr>\n",
       "    <tr>\n",
       "      <th>Wholesale</th>\n",
       "      <td>57710</td>\n",
       "      <td>133040</td>\n",
       "      <td>134660</td>\n",
       "      <td>133730</td>\n",
       "      <td>345100</td>\n",
       "      <td>337300</td>\n",
       "      <td>357700</td>\n",
       "      <td>140880</td>\n",
       "      <td>333500</td>\n",
       "      <td>347600</td>\n",
       "    </tr>\n",
       "    <tr>\n",
       "      <th>ICT</th>\n",
       "      <td>27800</td>\n",
       "      <td>27900</td>\n",
       "      <td>26400</td>\n",
       "      <td>27200</td>\n",
       "      <td>26900</td>\n",
       "      <td>35700</td>\n",
       "      <td>24000</td>\n",
       "      <td>34400</td>\n",
       "      <td>58900</td>\n",
       "      <td>31500</td>\n",
       "    </tr>\n",
       "    <tr>\n",
       "      <th>Finance</th>\n",
       "      <td>33800</td>\n",
       "      <td>29800</td>\n",
       "      <td>33200</td>\n",
       "      <td>31100</td>\n",
       "      <td>32400</td>\n",
       "      <td>32400</td>\n",
       "      <td>30800</td>\n",
       "      <td>31000</td>\n",
       "      <td>32100</td>\n",
       "      <td>35500</td>\n",
       "    </tr>\n",
       "    <tr>\n",
       "      <th>Real_Estate</th>\n",
       "      <td>13500</td>\n",
       "      <td>14600</td>\n",
       "      <td>17600</td>\n",
       "      <td>18800</td>\n",
       "      <td>18000</td>\n",
       "      <td>22200</td>\n",
       "      <td>19100</td>\n",
       "      <td>22700</td>\n",
       "      <td>18200</td>\n",
       "      <td>25200</td>\n",
       "    </tr>\n",
       "    <tr>\n",
       "      <th>Professional_Service</th>\n",
       "      <td>144800</td>\n",
       "      <td>145800</td>\n",
       "      <td>143600</td>\n",
       "      <td>137300</td>\n",
       "      <td>149900</td>\n",
       "      <td>152900</td>\n",
       "      <td>166200</td>\n",
       "      <td>161200</td>\n",
       "      <td>176400</td>\n",
       "      <td>187100</td>\n",
       "    </tr>\n",
       "    <tr>\n",
       "      <th>Public_Administration</th>\n",
       "      <td>57710</td>\n",
       "      <td>133040</td>\n",
       "      <td>134660</td>\n",
       "      <td>133730</td>\n",
       "      <td>136510</td>\n",
       "      <td>139440</td>\n",
       "      <td>140380</td>\n",
       "      <td>140880</td>\n",
       "      <td>142290</td>\n",
       "      <td>145220</td>\n",
       "    </tr>\n",
       "    <tr>\n",
       "      <th>Other_Service</th>\n",
       "      <td>64200</td>\n",
       "      <td>68000</td>\n",
       "      <td>72400</td>\n",
       "      <td>72800</td>\n",
       "      <td>75500</td>\n",
       "      <td>73300</td>\n",
       "      <td>77200</td>\n",
       "      <td>72400</td>\n",
       "      <td>83200</td>\n",
       "      <td>81800</td>\n",
       "    </tr>\n",
       "  </tbody>\n",
       "</table>\n",
       "</div>"
      ],
      "text/plain": [
       "                       yr_2009  yr_2010  yr_2011  yr_2012  yr_2013  yr_2014  \\\n",
       "Agriculture              37700    38200    36100    36100    36800    42700   \n",
       "Production              156700   149800   158600   154400   164200   173300   \n",
       "Construction             96600    93200    90000    91300    89300    97000   \n",
       "Wholesale                57710   133040   134660   133730   345100   337300   \n",
       "ICT                      27800    27900    26400    27200    26900    35700   \n",
       "Finance                  33800    29800    33200    31100    32400    32400   \n",
       "Real_Estate              13500    14600    17600    18800    18000    22200   \n",
       "Professional_Service    144800   145800   143600   137300   149900   152900   \n",
       "Public_Administration    57710   133040   134660   133730   136510   139440   \n",
       "Other_Service            64200    68000    72400    72800    75500    73300   \n",
       "\n",
       "                       yr_2015  yr_2016  yr_2017  yr_2018  \n",
       "Agriculture              40700    43200    40200    41100  \n",
       "Production              172300   162500   165100   165700  \n",
       "Construction             92600   102700    90800   101800  \n",
       "Wholesale               357700   140880   333500   347600  \n",
       "ICT                      24000    34400    58900    31500  \n",
       "Finance                  30800    31000    32100    35500  \n",
       "Real_Estate              19100    22700    18200    25200  \n",
       "Professional_Service    166200   161200   176400   187100  \n",
       "Public_Administration   140380   140880   142290   145220  \n",
       "Other_Service            77200    72400    83200    81800  "
      ]
     },
     "execution_count": 159,
     "metadata": {},
     "output_type": "execute_result"
    }
   ],
   "source": [
    "dfCopy"
   ]
  },
  {
   "cell_type": "code",
   "execution_count": 163,
   "metadata": {},
   "outputs": [
    {
     "data": {
      "text/html": [
       "<div>\n",
       "<style scoped>\n",
       "    .dataframe tbody tr th:only-of-type {\n",
       "        vertical-align: middle;\n",
       "    }\n",
       "\n",
       "    .dataframe tbody tr th {\n",
       "        vertical-align: top;\n",
       "    }\n",
       "\n",
       "    .dataframe thead th {\n",
       "        text-align: right;\n",
       "    }\n",
       "</style>\n",
       "<table border=\"1\" class=\"dataframe\">\n",
       "  <thead>\n",
       "    <tr style=\"text-align: right;\">\n",
       "      <th></th>\n",
       "      <th>yr_2009</th>\n",
       "      <th>yr_2010</th>\n",
       "      <th>yr_2011</th>\n",
       "      <th>yr_2012</th>\n",
       "      <th>yr_2013</th>\n",
       "      <th>yr_2014</th>\n",
       "      <th>yr_2015</th>\n",
       "      <th>yr_2016</th>\n",
       "      <th>yr_2017</th>\n",
       "      <th>yr_2018</th>\n",
       "    </tr>\n",
       "  </thead>\n",
       "  <tbody>\n",
       "    <tr>\n",
       "      <th>Wholesale</th>\n",
       "      <td>57710</td>\n",
       "      <td>133040</td>\n",
       "      <td>134660</td>\n",
       "      <td>133730</td>\n",
       "      <td>345100</td>\n",
       "      <td>337300</td>\n",
       "      <td>357700</td>\n",
       "      <td>140880</td>\n",
       "      <td>333500</td>\n",
       "      <td>347600</td>\n",
       "    </tr>\n",
       "    <tr>\n",
       "      <th>Public_Administration</th>\n",
       "      <td>57710</td>\n",
       "      <td>133040</td>\n",
       "      <td>134660</td>\n",
       "      <td>133730</td>\n",
       "      <td>136510</td>\n",
       "      <td>139440</td>\n",
       "      <td>140380</td>\n",
       "      <td>140880</td>\n",
       "      <td>142290</td>\n",
       "      <td>145220</td>\n",
       "    </tr>\n",
       "  </tbody>\n",
       "</table>\n",
       "</div>"
      ],
      "text/plain": [
       "                       yr_2009  yr_2010  yr_2011  yr_2012  yr_2013  yr_2014  \\\n",
       "Wholesale                57710   133040   134660   133730   345100   337300   \n",
       "Public_Administration    57710   133040   134660   133730   136510   139440   \n",
       "\n",
       "                       yr_2015  yr_2016  yr_2017  yr_2018  \n",
       "Wholesale               357700   140880   333500   347600  \n",
       "Public_Administration   140380   140880   142290   145220  "
      ]
     },
     "execution_count": 163,
     "metadata": {},
     "output_type": "execute_result"
    }
   ],
   "source": [
    "dfCopy.loc[['Wholesale','Public_Administration'],:]"
   ]
  },
  {
   "cell_type": "markdown",
   "metadata": {},
   "source": [
    "# 2. Data analysis"
   ]
  },
  {
   "cell_type": "markdown",
   "metadata": {},
   "source": [
    "## 2.1.\tWhich industry employed highest and lowest workers over the period?"
   ]
  },
  {
   "cell_type": "code",
   "execution_count": 174,
   "metadata": {},
   "outputs": [
    {
     "data": {
      "image/png": "[encoded data removed]",
      "text/plain": [
       "<Figure size 1008x576 with 1 Axes>"
      ]
     },
     "metadata": {},
     "output_type": "display_data"
    }
   ],
   "source": [
    "plt.figure(figsize=(14,8))\n",
    "dfCopy.sum(axis=1).plot(kind='bar')\n",
    "plt.ylabel('Total number of workers employed from 2009-2018',fontweight='bold',fontsize=14)\n",
    "plt.xlabel('Industry',fontsize=14,fontweight='bold')\n",
    "plt.xticks(fontsize=13,fontweight='bold',rotation=75)\n",
    "plt.show()"
   ]
  },
  {
   "cell_type": "markdown",
   "metadata": {},
   "source": [
    "#### Over the period of 2009-2018, the highest number of workers are employed by WHOLESALE industry\n",
    "#### Over the period of 2009-2018, the lowest number of workers are employed by REAL ESTATE industry"
   ]
  },
  {
   "cell_type": "markdown",
   "metadata": {},
   "source": [
    "## 2.2.\tWhich industry has the highest and lowest overall growth over the period? "
   ]
  },
  {
   "cell_type": "code",
   "execution_count": 181,
   "metadata": {},
   "outputs": [
    {
     "data": {
      "text/plain": [
       "<matplotlib.axes._subplots.AxesSubplot at 0x23f1962cef0>"
      ]
     },
     "execution_count": 181,
     "metadata": {},
     "output_type": "execute_result"
    },
    {
     "data": {
      "image/png": "[encoded data removed]",
      "text/plain": [
       "<Figure size 432x288 with 1 Axes>"
      ]
     },
     "metadata": {},
     "output_type": "display_data"
    }
   ],
   "source": [
    "np.round((df['yr_2018']-df['yr_2009'])/df['yr_2009']*100,2).plot(kind='bar')"
   ]
  },
  {
   "cell_type": "code",
   "execution_count": 182,
   "metadata": {},
   "outputs": [
    {
     "data": {
      "text/plain": [
       "<matplotlib.axes._subplots.AxesSubplot at 0x23f19690358>"
      ]
     },
     "execution_count": 182,
     "metadata": {},
     "output_type": "execute_result"
    },
    {
     "data": {
      "image/png": "[encoded data removed]",
      "text/plain": [
       "<Figure size 432x288 with 1 Axes>"
      ]
     },
     "metadata": {},
     "output_type": "display_data"
    }
   ],
   "source": [
    "df[['yr_2009','yr_2018']].plot(kind='bar')"
   ]
  },
  {
   "cell_type": "code",
   "execution_count": null,
   "metadata": {},
   "outputs": [],
   "source": []
  },
  {
   "cell_type": "code",
   "execution_count": null,
   "metadata": {},
   "outputs": [],
   "source": []
  },
  {
   "cell_type": "code",
   "execution_count": null,
   "metadata": {},
   "outputs": [],
   "source": []
  },
  {
   "cell_type": "code",
   "execution_count": null,
   "metadata": {},
   "outputs": [],
   "source": []
  },
  {
   "cell_type": "code",
   "execution_count": null,
   "metadata": {},
   "outputs": [],
   "source": []
  },
  {
   "cell_type": "code",
   "execution_count": null,
   "metadata": {},
   "outputs": [],
   "source": []
  },
  {
   "cell_type": "code",
   "execution_count": null,
   "metadata": {},
   "outputs": [],
   "source": []
  },
  {
   "cell_type": "code",
   "execution_count": null,
   "metadata": {},
   "outputs": [],
   "source": []
  },
  {
   "cell_type": "code",
   "execution_count": null,
   "metadata": {},
   "outputs": [],
   "source": []
  },
  {
   "cell_type": "code",
   "execution_count": null,
   "metadata": {},
   "outputs": [],
   "source": []
  },
  {
   "cell_type": "code",
   "execution_count": null,
   "metadata": {},
   "outputs": [],
   "source": []
  },
  {
   "cell_type": "code",
   "execution_count": null,
   "metadata": {},
   "outputs": [],
   "source": []
  },
  {
   "cell_type": "code",
   "execution_count": null,
   "metadata": {},
   "outputs": [],
   "source": []
  },
  {
   "cell_type": "code",
   "execution_count": null,
   "metadata": {},
   "outputs": [],
   "source": []
  },
  {
   "cell_type": "code",
   "execution_count": null,
   "metadata": {},
   "outputs": [],
   "source": []
  },
  {
   "cell_type": "code",
   "execution_count": null,
   "metadata": {},
   "outputs": [],
   "source": []
  },
  {
   "cell_type": "code",
   "execution_count": null,
   "metadata": {},
   "outputs": [],
   "source": []
  },
  {
   "cell_type": "code",
   "execution_count": null,
   "metadata": {},
   "outputs": [],
   "source": []
  }
 ],
 "metadata": {
  "kernelspec": {
   "display_name": "Python 3",
   "language": "python",
   "name": "python3"
  },
  "language_info": {
   "codemirror_mode": {
    "name": "ipython",
    "version": 3
   },
   "file_extension": ".py",
   "mimetype": "text/x-python",
   "name": "python",
   "nbconvert_exporter": "python",
   "pygments_lexer": "ipython3",
   "version": "3.7.3"
  }
 },
 "nbformat": 4,
 "nbformat_minor": 2
}
